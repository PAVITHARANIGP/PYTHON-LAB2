{
 "cells": [
  {
   "cell_type": "code",
   "execution_count": 29,
   "metadata": {},
   "outputs": [
    {
     "name": "stdout",
     "output_type": "stream",
     "text": [
      "My List: ['Features', ['Description'], 'Availability', 30, {'Name', 'Address', 'Email'}, ('Date', 'Image', 'Phone'), {'Productname': 'Flower'}]\n"
     ]
    }
   ],
   "source": [
    "# Create a LIST with your domain attributes, insert the elements using the append (), insert(), extend().\n",
    "\n",
    "my_list = []\n",
    "\n",
    "my_list.append(\"Features\")\n",
    "my_list.append([\"Description\"])\n",
    "\n",
    "my_list.insert(2, \"Availability\")\n",
    "\n",
    "ID = [30]\n",
    "my_list.extend(ID)\n",
    "\n",
    "Details = ({\"Name\", \"Email\",\"Address\" })\n",
    "my_list.append(Details)\n",
    "\n",
    "my_list.append((\"Date\", \"Image\", \"Phone\"))\n",
    "\n",
    "Products= ({\"Productname\": \"Flower\"})\n",
    "my_list.append(Products)\n",
    "print(\"My List:\", my_list)\n"
   ]
  },
  {
   "cell_type": "code",
   "execution_count": 39,
   "metadata": {},
   "outputs": [
    {
     "name": "stdout",
     "output_type": "stream",
     "text": [
      "After Swapping :  [50, 20, 30, 40, 10]\n"
     ]
    }
   ],
   "source": [
    "# Write a program to swap the first and last elements in a list\n",
    "\n",
    "my_list = [10, 20, 30, 40, 50]\n",
    "\n",
    "def swap_first_last(last):\n",
    " \n",
    "  first = last[0]\n",
    "  last[0] = last[-1]\n",
    "  last[-1] = first\n",
    " \n",
    "  return last\n",
    "\n",
    "print(\"After Swapping : \",swap_first_last(my_list))\n"
   ]
  },
  {
   "cell_type": "code",
   "execution_count": 45,
   "metadata": {},
   "outputs": [
    {
     "name": "stdout",
     "output_type": "stream",
     "text": [
      "The Sum is :  150\n"
     ]
    }
   ],
   "source": [
    "# Write a program to find the sum of the digits in a list\n",
    "\n",
    "def listSum(numlist):\n",
    "    sum=0\n",
    "    for singleElement in numlist:\n",
    "        sum+=singleElement\n",
    "    print(\"The Sum is : \",sum)\n",
    "\n",
    "\n",
    "listSum(my_list)\n"
   ]
  },
  {
   "cell_type": "code",
   "execution_count": 54,
   "metadata": {},
   "outputs": [
    {
     "name": "stdout",
     "output_type": "stream",
     "text": [
      "The Smallest is :\n",
      "10\n"
     ]
    }
   ],
   "source": [
    "# Write a program to find the smallest element in a list\n",
    "\n",
    "def min_element(lst):\n",
    "  minimum = lst[0]\n",
    "  for num in lst[1:]:\n",
    "    if num < minimum:\n",
    "      minimum = num\n",
    "  return minimum\n",
    "\n",
    "print(\"The Smallest is :\")\n",
    "print(min_element(my_list)) "
   ]
  },
  {
   "cell_type": "code",
   "execution_count": 57,
   "metadata": {},
   "outputs": [
    {
     "name": "stdout",
     "output_type": "stream",
     "text": [
      "{'a': 1, 'b': 2, 'c': 3, 'k': 11, 'm': 13, 'p': 16, 'q': 17, 'r': 18, 'x': 24, 'y': 25, 'z': 26}\n"
     ]
    }
   ],
   "source": [
    "# Sort the dictionary in ascending order based on the key of the dictionary\n",
    "\n",
    "mydict={'a': 1, 'b': 2, 'c': 3,\n",
    "'k': 11, 'm': 13, 'z': 26,\n",
    "'a': 1, 'p': 16, 'q': 17, 'r': 18}\n",
    "\n",
    "keys= list(mydict.keys())\n",
    "keys.sort()\n",
    "# new_dict= {key:mydict[key] for key in keys}\n",
    "new_dict = dict(sorted(mydict.items(),key=lambda item : item[0]))\n",
    "print(new_dict)\n"
   ]
  },
  {
   "cell_type": "code",
   "execution_count": 69,
   "metadata": {},
   "outputs": [
    {
     "name": "stdout",
     "output_type": "stream",
     "text": [
      "dict_items([('a', 1), ('b', 2), ('c', 3), ('k', 11), ('m', 13), ('z', 26), ('p', 16), ('q', 17), ('r', 18)])\n",
      "1\n",
      "2\n",
      "3\n",
      "11\n",
      "13\n",
      "26\n",
      "16\n",
      "17\n",
      "18\n",
      "Sum :  107\n"
     ]
    }
   ],
   "source": [
    "# Find the sum of all the values in the dictionary\n",
    "\n",
    "sum=0\n",
    "print(mydict.items())\n",
    "for key,val in mydict.items():\n",
    "    sum+=val\n",
    "    print(val)\n",
    "print(\"Sum : \",sum)\n",
    "    "
   ]
  },
  {
   "cell_type": "code",
   "execution_count": 68,
   "metadata": {},
   "outputs": [
    {
     "name": "stdout",
     "output_type": "stream",
     "text": [
      "{'z': 26, 'r': 18, 'q': 17, 'p': 16, 'm': 13, 'k': 11, 'c': 3, 'b': 2, 'a': 1}\n"
     ]
    }
   ],
   "source": [
    "# Write a Python code to demonstrate the sorting in descending order of values with lambda function\n",
    "\n",
    "\n",
    "mydict={'a': 1, 'b': 2, 'c': 3,\n",
    "'k': 11, 'm': 13, 'z': 26,\n",
    "'a': 1, 'p': 16, 'q': 17, 'r': 18}\n",
    "\n",
    "def sort_by_value_desc(d):\n",
    "  # Create a list of tuples from the dictionary items\n",
    "  items = list(d.items())\n",
    "  # Sort the list by the second element of each tuple (the value) in reverse order\n",
    "  items.sort(key=lambda x: x[1], reverse=True)\n",
    "  # Return a new dictionary from the sorted list\n",
    "  return dict(items)\n",
    "\n",
    "print()\n",
    "print(sort_by_value_desc(mydict)) # {'c': 30, 'b': 20, 'a': 10}\n",
    "\n"
   ]
  }
 ],
 "metadata": {
  "kernelspec": {
   "display_name": "Python 3",
   "language": "python",
   "name": "python3"
  },
  "language_info": {
   "codemirror_mode": {
    "name": "ipython",
    "version": 3
   },
   "file_extension": ".py",
   "mimetype": "text/x-python",
   "name": "python",
   "nbconvert_exporter": "python",
   "pygments_lexer": "ipython3",
   "version": "3.10.11"
  },
  "orig_nbformat": 4
 },
 "nbformat": 4,
 "nbformat_minor": 2
}
